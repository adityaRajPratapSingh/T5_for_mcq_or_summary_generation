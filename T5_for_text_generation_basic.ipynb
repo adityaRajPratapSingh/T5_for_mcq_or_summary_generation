{
  "nbformat": 4,
  "nbformat_minor": 0,
  "metadata": {
    "colab": {
      "provenance": [],
      "authorship_tag": "ABX9TyPhibbnwIGzlsJgHmkj3IsG",
      "include_colab_link": true
    },
    "kernelspec": {
      "name": "python3",
      "display_name": "Python 3"
    },
    "language_info": {
      "name": "python"
    }
  },
  "cells": [
    {
      "cell_type": "markdown",
      "metadata": {
        "id": "view-in-github",
        "colab_type": "text"
      },
      "source": [
        "<a href=\"https://colab.research.google.com/github/adityaRajPratapSingh/T5_for_text_generation_basic/blob/main/T5_for_text_generation_basic.ipynb\" target=\"_parent\"><img src=\"https://colab.research.google.com/assets/colab-badge.svg\" alt=\"Open In Colab\"/></a>"
      ]
    },
    {
      "cell_type": "markdown",
      "source": [
        "this notebook is fine-tuning the T5-SMALL model to for SUMMARIZATION task on the XSUM dataset form hugging face itself which stads for extreme summarization."
      ],
      "metadata": {
        "id": "4pENgikcm3mp"
      }
    },
    {
      "cell_type": "code",
      "source": [
        "!pip install datasets transformers nltk evaluate rouge-score\n",
        "\n",
        "import transformers\n",
        "from datasets import load_dataset\n",
        "from evaluate import load\n",
        "from transformers import AutoTokenizer"
      ],
      "metadata": {
        "id": "D1Ae12NRFS8w"
      },
      "execution_count": null,
      "outputs": []
    },
    {
      "cell_type": "code",
      "source": [
        "model_checkpoint = 't5-small'\n",
        "max_input_length = 1024\n",
        "max_target_length = 128"
      ],
      "metadata": {
        "id": "McyWXFy7orn8"
      },
      "execution_count": null,
      "outputs": []
    },
    {
      "cell_type": "code",
      "source": [
        "data = load_dataset('xsum')\n",
        "metric = load('rouge')"
      ],
      "metadata": {
        "id": "qckyIrNVo-Z8"
      },
      "execution_count": null,
      "outputs": []
    },
    {
      "cell_type": "code",
      "source": [
        "data"
      ],
      "metadata": {
        "id": "5FmL5eqSpNnS"
      },
      "execution_count": null,
      "outputs": []
    },
    {
      "cell_type": "code",
      "source": [
        "data['train'][0]"
      ],
      "metadata": {
        "id": "efOGE2xTpPYW"
      },
      "execution_count": null,
      "outputs": []
    },
    {
      "cell_type": "code",
      "source": [
        "metric"
      ],
      "metadata": {
        "id": "Sbzxwg3zpWZH"
      },
      "execution_count": null,
      "outputs": []
    },
    {
      "cell_type": "code",
      "source": [
        "# the auto automatically gets the fast versions of the toenizers i.e the rust versions\n",
        "tokenizer = AutoTokenizer.from_pretrained(model_checkpoint)"
      ],
      "metadata": {
        "id": "VBy6NOnbp_oq"
      },
      "execution_count": null,
      "outputs": []
    },
    {
      "cell_type": "code",
      "source": [
        "prefix = 'summarize: '"
      ],
      "metadata": {
        "id": "NCFQ1K9irL3f"
      },
      "execution_count": null,
      "outputs": []
    },
    {
      "cell_type": "code",
      "source": [],
      "metadata": {
        "id": "Lg1s8gpHrRVo"
      },
      "execution_count": null,
      "outputs": []
    }
  ]
}