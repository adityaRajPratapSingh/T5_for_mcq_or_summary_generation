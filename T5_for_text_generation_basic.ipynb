{
  "nbformat": 4,
  "nbformat_minor": 0,
  "metadata": {
    "colab": {
      "provenance": [],
      "authorship_tag": "ABX9TyNcJwCA5YfJ3AO294ih51cu",
      "include_colab_link": true
    },
    "kernelspec": {
      "name": "python3",
      "display_name": "Python 3"
    },
    "language_info": {
      "name": "python"
    }
  },
  "cells": [
    {
      "cell_type": "markdown",
      "metadata": {
        "id": "view-in-github",
        "colab_type": "text"
      },
      "source": [
        "<a href=\"https://colab.research.google.com/github/adityaRajPratapSingh/T5_for_text_generation_basic/blob/main/T5_for_text_generation_basic.ipynb\" target=\"_parent\"><img src=\"https://colab.research.google.com/assets/colab-badge.svg\" alt=\"Open In Colab\"/></a>"
      ]
    },
    {
      "cell_type": "markdown",
      "source": [
        "this notebook is fine-tuning the T5-SMALL model to for SUMMARIZATION task on the XSUM dataset form hugging face itself which stads for extreme summarization."
      ],
      "metadata": {
        "id": "4pENgikcm3mp"
      }
    },
    {
      "cell_type": "code",
      "source": [],
      "metadata": {
        "id": "D1Ae12NRFS8w"
      },
      "execution_count": null,
      "outputs": []
    }
  ]
}